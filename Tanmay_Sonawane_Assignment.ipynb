{
 "cells": [
  {
   "cell_type": "markdown",
   "id": "c59f516a",
   "metadata": {},
   "source": [
    "   # Welcome To This Notebook😃"
   ]
  },
  {
   "cell_type": "markdown",
   "id": "62fbbe4a",
   "metadata": {},
   "source": [
    "# Project Name :- Total Caps Production Predictor\n",
    "\n",
    "### Problem Statement :- \n",
    "\n",
    "The goal of this project is to train a Machine Learning model that accurately estimates the total production of caps based on Date & Time and Production per hour features. The model aims to contribute to optimizing production planning and resource allocation.\n",
    "\n",
    "### Problems to Solve:-\n",
    "\n",
    "**1) Outlier Detection and outlier treatment of 'Production Per Hour' feature**\n",
    "\n",
    "**2) Train a Machine Learning model that accurately estimates the total production of caps based on Date & Time and Production per hour features.**\n",
    "\n",
    "### Dataset:\n",
    "\n",
    "The dataset includes the following features:\n",
    "\n",
    "Date & Time: The timestamp indicating when the production data was recorded.\n",
    "\n",
    "Production per Hour: The amount of production recorded per hour.\n",
    "\n",
    "**Target Variable:**\n",
    "\n",
    "Total Production: The total production accumulated during the recorded period."
   ]
  },
  {
   "cell_type": "markdown",
   "id": "d08e074a",
   "metadata": {},
   "source": [
    "## Importing Libraries"
   ]
  },
  {
   "cell_type": "code",
   "execution_count": 309,
   "id": "d645d8be",
   "metadata": {},
   "outputs": [],
   "source": [
    "import numpy as np\n",
    "import pandas as pd\n",
    "import matplotlib.pyplot as plt\n",
    "import seaborn as sns\n",
    "\n",
    "from sklearn.model_selection import train_test_split\n",
    "from sklearn.tree import DecisionTreeRegressor\n",
    "from sklearn.ensemble import RandomForestRegressor\n",
    "from sklearn.metrics import r2_score\n",
    "from sklearn.model_selection import GridSearchCV"
   ]
  },
  {
   "cell_type": "markdown",
   "id": "0b7a0f1b",
   "metadata": {},
   "source": [
    "## Importing the Dataset"
   ]
  },
  {
   "cell_type": "code",
   "execution_count": 310,
   "id": "45366bf2",
   "metadata": {},
   "outputs": [],
   "source": [
    "df1 = pd.read_csv(r\"C:\\Users\\91770\\Downloads\\cap-production-data.csv\")"
   ]
  },
  {
   "cell_type": "markdown",
   "id": "c866e95b",
   "metadata": {},
   "source": [
    "## Setiing Display options to ensure feature name visibility"
   ]
  },
  {
   "cell_type": "code",
   "execution_count": 311,
   "id": "a5718927",
   "metadata": {},
   "outputs": [],
   "source": [
    "pd.set_option('display.max_columns',None)"
   ]
  },
  {
   "cell_type": "markdown",
   "id": "184c0c4c",
   "metadata": {},
   "source": [
    "## Warning Suppression"
   ]
  },
  {
   "cell_type": "code",
   "execution_count": 312,
   "id": "0ff03864",
   "metadata": {},
   "outputs": [],
   "source": [
    "import warnings\n",
    "warnings.filterwarnings('ignore')"
   ]
  },
  {
   "cell_type": "markdown",
   "id": "cb56211a",
   "metadata": {},
   "source": [
    "## Creating copy of original dataset"
   ]
  },
  {
   "cell_type": "code",
   "execution_count": 313,
   "id": "1a34cfc6",
   "metadata": {},
   "outputs": [],
   "source": [
    "df = df1.copy()"
   ]
  },
  {
   "cell_type": "markdown",
   "id": "bf3b48f4",
   "metadata": {},
   "source": [
    "## Eyeballing Dataset"
   ]
  },
  {
   "cell_type": "code",
   "execution_count": 314,
   "id": "949074dc",
   "metadata": {},
   "outputs": [
    {
     "data": {
      "text/html": [
       "<div>\n",
       "<style scoped>\n",
       "    .dataframe tbody tr th:only-of-type {\n",
       "        vertical-align: middle;\n",
       "    }\n",
       "\n",
       "    .dataframe tbody tr th {\n",
       "        vertical-align: top;\n",
       "    }\n",
       "\n",
       "    .dataframe thead th {\n",
       "        text-align: right;\n",
       "    }\n",
       "</style>\n",
       "<table border=\"1\" class=\"dataframe\">\n",
       "  <thead>\n",
       "    <tr style=\"text-align: right;\">\n",
       "      <th></th>\n",
       "      <th>Date &amp; Time</th>\n",
       "      <th>Production per hour</th>\n",
       "      <th>Total Production</th>\n",
       "    </tr>\n",
       "  </thead>\n",
       "  <tbody>\n",
       "    <tr>\n",
       "      <th>0</th>\n",
       "      <td>27/01/2024 17:11:44</td>\n",
       "      <td>77</td>\n",
       "      <td>77</td>\n",
       "    </tr>\n",
       "    <tr>\n",
       "      <th>1</th>\n",
       "      <td>27/01/2024 18:11:44</td>\n",
       "      <td>52</td>\n",
       "      <td>129</td>\n",
       "    </tr>\n",
       "    <tr>\n",
       "      <th>2</th>\n",
       "      <td>27/01/2024 19:11:44</td>\n",
       "      <td>62</td>\n",
       "      <td>191</td>\n",
       "    </tr>\n",
       "    <tr>\n",
       "      <th>3</th>\n",
       "      <td>27/01/2024 20:11:44</td>\n",
       "      <td>47</td>\n",
       "      <td>238</td>\n",
       "    </tr>\n",
       "    <tr>\n",
       "      <th>4</th>\n",
       "      <td>27/01/2024 21:11:44</td>\n",
       "      <td>35</td>\n",
       "      <td>273</td>\n",
       "    </tr>\n",
       "  </tbody>\n",
       "</table>\n",
       "</div>"
      ],
      "text/plain": [
       "           Date & Time  Production per hour Total Production\n",
       "0  27/01/2024 17:11:44                   77               77\n",
       "1  27/01/2024 18:11:44                   52              129\n",
       "2  27/01/2024 19:11:44                   62              191\n",
       "3  27/01/2024 20:11:44                   47              238\n",
       "4  27/01/2024 21:11:44                   35              273"
      ]
     },
     "execution_count": 314,
     "metadata": {},
     "output_type": "execute_result"
    }
   ],
   "source": [
    "#Checking first 5 rows of dataset\n",
    "\n",
    "df.head()"
   ]
  },
  {
   "cell_type": "code",
   "execution_count": 315,
   "id": "50f2e972",
   "metadata": {},
   "outputs": [
    {
     "data": {
      "text/plain": [
       "(499, 3)"
      ]
     },
     "execution_count": 315,
     "metadata": {},
     "output_type": "execute_result"
    }
   ],
   "source": [
    "# Checking shape of dataset\n",
    "\n",
    "df.shape"
   ]
  },
  {
   "cell_type": "code",
   "execution_count": 316,
   "id": "b5f3036d",
   "metadata": {},
   "outputs": [
    {
     "name": "stdout",
     "output_type": "stream",
     "text": [
      "<class 'pandas.core.frame.DataFrame'>\n",
      "RangeIndex: 499 entries, 0 to 498\n",
      "Data columns (total 3 columns):\n",
      " #   Column               Non-Null Count  Dtype \n",
      "---  ------               --------------  ----- \n",
      " 0   Date & Time          499 non-null    object\n",
      " 1   Production per hour  499 non-null    int64 \n",
      " 2   Total Production     499 non-null    object\n",
      "dtypes: int64(1), object(2)\n",
      "memory usage: 11.8+ KB\n"
     ]
    }
   ],
   "source": [
    "df.info()"
   ]
  },
  {
   "cell_type": "code",
   "execution_count": 317,
   "id": "ab369909",
   "metadata": {},
   "outputs": [
    {
     "data": {
      "text/plain": [
       "Index(['Date & Time', 'Production per hour', 'Total Production'], dtype='object')"
      ]
     },
     "execution_count": 317,
     "metadata": {},
     "output_type": "execute_result"
    }
   ],
   "source": [
    "# Checing columns\n",
    "\n",
    "df.columns"
   ]
  },
  {
   "cell_type": "code",
   "execution_count": 318,
   "id": "783cde59",
   "metadata": {},
   "outputs": [
    {
     "data": {
      "text/plain": [
       "Date & Time            object\n",
       "Production per hour     int64\n",
       "Total Production       object\n",
       "dtype: object"
      ]
     },
     "execution_count": 318,
     "metadata": {},
     "output_type": "execute_result"
    }
   ],
   "source": [
    "# Checking datatypes\n",
    "\n",
    "df.dtypes"
   ]
  },
  {
   "cell_type": "code",
   "execution_count": 319,
   "id": "45e91cc7",
   "metadata": {},
   "outputs": [
    {
     "data": {
      "text/plain": [
       "0"
      ]
     },
     "execution_count": 319,
     "metadata": {},
     "output_type": "execute_result"
    }
   ],
   "source": [
    "# Checking Duplicated values\n",
    "\n",
    "df.duplicated().sum()"
   ]
  },
  {
   "cell_type": "markdown",
   "id": "2842e0e8",
   "metadata": {},
   "source": [
    "## Initial Observations About Raw Data\n",
    "\n",
    "- 1. We have 499 rows and 3 columns \n",
    "\n",
    "  Independent Feature : 'Date & Time' and 'Production per hour'\n",
    "\n",
    "  Dependent Feature : 'Total Production'\n",
    "  \n",
    "  \n",
    "- 2. Datatypes of 'Date & Time' and 'Production per hour' are 'object' we have to change it to 'datetime' and 'int64' respectively.\n",
    "\n",
    "- 3. We have to create some useful features using 'Date & Time' feature so we can enrich our dataset.\n",
    "\n",
    "- 4. In Total production there is comma in some 'Total Production' feature, e.g.;-22,685, we have replace comma.\n",
    "\n",
    "- 5. There are no duplicate values in the dataset\n",
    "\n",
    "- 6. Rename feature name 'Production per hour' to 'Production Per Hour'."
   ]
  },
  {
   "cell_type": "markdown",
   "id": "da589718",
   "metadata": {},
   "source": [
    "## Data Cleaning"
   ]
  },
  {
   "cell_type": "code",
   "execution_count": 320,
   "id": "76a1608f",
   "metadata": {},
   "outputs": [],
   "source": [
    "# Replacing comma with space in Total Production variable\n",
    "\n",
    "df['Total Production'] = df['Total Production'].str.replace(',','')"
   ]
  },
  {
   "cell_type": "code",
   "execution_count": 321,
   "id": "d1d6f8fa",
   "metadata": {},
   "outputs": [],
   "source": [
    "# Changing datatype of 'Total Production Column'\n",
    "\n",
    "df['Total Production'] = df['Total Production'].astype('int64')"
   ]
  },
  {
   "cell_type": "code",
   "execution_count": 322,
   "id": "c3dcdbb0",
   "metadata": {},
   "outputs": [],
   "source": [
    "# Changing Datatype of 'Date & Time' feature\n",
    "\n",
    "df['Date & Time'] = pd.to_datetime(df['Date & Time'], format='%d/%m/%Y %H:%M:%S')"
   ]
  },
  {
   "cell_type": "code",
   "execution_count": 323,
   "id": "60b2e5f6",
   "metadata": {},
   "outputs": [
    {
     "data": {
      "text/plain": [
       "Date & Time            datetime64[ns]\n",
       "Production per hour             int64\n",
       "Total Production                int64\n",
       "dtype: object"
      ]
     },
     "execution_count": 323,
     "metadata": {},
     "output_type": "execute_result"
    }
   ],
   "source": [
    "# Checking datatypes\n",
    "\n",
    "df.dtypes"
   ]
  },
  {
   "cell_type": "code",
   "execution_count": 324,
   "id": "21914f75",
   "metadata": {},
   "outputs": [],
   "source": [
    "# Renaming feature name 'Production per hour' to 'Production Per Hour'.\n",
    "\n",
    "df.rename(columns={'Production per hour': 'Production Per Hour'}, inplace=True)"
   ]
  },
  {
   "cell_type": "code",
   "execution_count": 325,
   "id": "3ce2a215",
   "metadata": {},
   "outputs": [
    {
     "data": {
      "text/html": [
       "<div>\n",
       "<style scoped>\n",
       "    .dataframe tbody tr th:only-of-type {\n",
       "        vertical-align: middle;\n",
       "    }\n",
       "\n",
       "    .dataframe tbody tr th {\n",
       "        vertical-align: top;\n",
       "    }\n",
       "\n",
       "    .dataframe thead th {\n",
       "        text-align: right;\n",
       "    }\n",
       "</style>\n",
       "<table border=\"1\" class=\"dataframe\">\n",
       "  <thead>\n",
       "    <tr style=\"text-align: right;\">\n",
       "      <th></th>\n",
       "      <th>Date &amp; Time</th>\n",
       "      <th>Production Per Hour</th>\n",
       "      <th>Total Production</th>\n",
       "    </tr>\n",
       "  </thead>\n",
       "  <tbody>\n",
       "    <tr>\n",
       "      <th>294</th>\n",
       "      <td>2024-02-08 23:11:44</td>\n",
       "      <td>63</td>\n",
       "      <td>21419</td>\n",
       "    </tr>\n",
       "  </tbody>\n",
       "</table>\n",
       "</div>"
      ],
      "text/plain": [
       "            Date & Time  Production Per Hour  Total Production\n",
       "294 2024-02-08 23:11:44                   63             21419"
      ]
     },
     "execution_count": 325,
     "metadata": {},
     "output_type": "execute_result"
    }
   ],
   "source": [
    "df.sample()"
   ]
  },
  {
   "cell_type": "markdown",
   "id": "e6d33fe5",
   "metadata": {},
   "source": [
    "## Enriching our dataset using 'Date & Time'  Variable"
   ]
  },
  {
   "cell_type": "markdown",
   "id": "46d2f44f",
   "metadata": {},
   "source": [
    "#### Extracting Year, Month and Days"
   ]
  },
  {
   "cell_type": "code",
   "execution_count": 326,
   "id": "ba8aa817",
   "metadata": {},
   "outputs": [],
   "source": [
    "df['Year'] = df['Date & Time'].dt.year\n",
    "\n",
    "df['Month'] = df['Date & Time'].dt.month\n",
    "\n",
    "df['Day'] = df['Date & Time'].dt.day"
   ]
  },
  {
   "cell_type": "markdown",
   "id": "dcb828f9",
   "metadata": {},
   "source": [
    "#### Extracting Day of Week"
   ]
  },
  {
   "cell_type": "code",
   "execution_count": 327,
   "id": "d8bf1c85",
   "metadata": {},
   "outputs": [],
   "source": [
    "df['Day_of_Week'] = df['Date & Time'].dt.dayofweek"
   ]
  },
  {
   "cell_type": "markdown",
   "id": "0c93e585",
   "metadata": {},
   "source": [
    "#### Extracting Hour, Minutes and Seconds"
   ]
  },
  {
   "cell_type": "code",
   "execution_count": 328,
   "id": "66720626",
   "metadata": {},
   "outputs": [],
   "source": [
    "df['Hour'] = df['Date & Time'].dt.hour\n",
    "df['Minute'] = df['Date & Time'].dt.minute\n",
    "df['Second'] = df['Date & Time'].dt.second"
   ]
  },
  {
   "cell_type": "code",
   "execution_count": 329,
   "id": "f6f0ff75",
   "metadata": {},
   "outputs": [
    {
     "data": {
      "text/html": [
       "<div>\n",
       "<style scoped>\n",
       "    .dataframe tbody tr th:only-of-type {\n",
       "        vertical-align: middle;\n",
       "    }\n",
       "\n",
       "    .dataframe tbody tr th {\n",
       "        vertical-align: top;\n",
       "    }\n",
       "\n",
       "    .dataframe thead th {\n",
       "        text-align: right;\n",
       "    }\n",
       "</style>\n",
       "<table border=\"1\" class=\"dataframe\">\n",
       "  <thead>\n",
       "    <tr style=\"text-align: right;\">\n",
       "      <th></th>\n",
       "      <th>Date &amp; Time</th>\n",
       "      <th>Production Per Hour</th>\n",
       "      <th>Total Production</th>\n",
       "      <th>Year</th>\n",
       "      <th>Month</th>\n",
       "      <th>Day</th>\n",
       "      <th>Day_of_Week</th>\n",
       "      <th>Hour</th>\n",
       "      <th>Minute</th>\n",
       "      <th>Second</th>\n",
       "    </tr>\n",
       "  </thead>\n",
       "  <tbody>\n",
       "    <tr>\n",
       "      <th>0</th>\n",
       "      <td>2024-01-27 17:11:44</td>\n",
       "      <td>77</td>\n",
       "      <td>77</td>\n",
       "      <td>2024</td>\n",
       "      <td>1</td>\n",
       "      <td>27</td>\n",
       "      <td>5</td>\n",
       "      <td>17</td>\n",
       "      <td>11</td>\n",
       "      <td>44</td>\n",
       "    </tr>\n",
       "    <tr>\n",
       "      <th>1</th>\n",
       "      <td>2024-01-27 18:11:44</td>\n",
       "      <td>52</td>\n",
       "      <td>129</td>\n",
       "      <td>2024</td>\n",
       "      <td>1</td>\n",
       "      <td>27</td>\n",
       "      <td>5</td>\n",
       "      <td>18</td>\n",
       "      <td>11</td>\n",
       "      <td>44</td>\n",
       "    </tr>\n",
       "    <tr>\n",
       "      <th>2</th>\n",
       "      <td>2024-01-27 19:11:44</td>\n",
       "      <td>62</td>\n",
       "      <td>191</td>\n",
       "      <td>2024</td>\n",
       "      <td>1</td>\n",
       "      <td>27</td>\n",
       "      <td>5</td>\n",
       "      <td>19</td>\n",
       "      <td>11</td>\n",
       "      <td>44</td>\n",
       "    </tr>\n",
       "    <tr>\n",
       "      <th>3</th>\n",
       "      <td>2024-01-27 20:11:44</td>\n",
       "      <td>47</td>\n",
       "      <td>238</td>\n",
       "      <td>2024</td>\n",
       "      <td>1</td>\n",
       "      <td>27</td>\n",
       "      <td>5</td>\n",
       "      <td>20</td>\n",
       "      <td>11</td>\n",
       "      <td>44</td>\n",
       "    </tr>\n",
       "    <tr>\n",
       "      <th>4</th>\n",
       "      <td>2024-01-27 21:11:44</td>\n",
       "      <td>35</td>\n",
       "      <td>273</td>\n",
       "      <td>2024</td>\n",
       "      <td>1</td>\n",
       "      <td>27</td>\n",
       "      <td>5</td>\n",
       "      <td>21</td>\n",
       "      <td>11</td>\n",
       "      <td>44</td>\n",
       "    </tr>\n",
       "  </tbody>\n",
       "</table>\n",
       "</div>"
      ],
      "text/plain": [
       "          Date & Time  Production Per Hour  Total Production  Year  Month  \\\n",
       "0 2024-01-27 17:11:44                   77                77  2024      1   \n",
       "1 2024-01-27 18:11:44                   52               129  2024      1   \n",
       "2 2024-01-27 19:11:44                   62               191  2024      1   \n",
       "3 2024-01-27 20:11:44                   47               238  2024      1   \n",
       "4 2024-01-27 21:11:44                   35               273  2024      1   \n",
       "\n",
       "   Day  Day_of_Week  Hour  Minute  Second  \n",
       "0   27            5    17      11      44  \n",
       "1   27            5    18      11      44  \n",
       "2   27            5    19      11      44  \n",
       "3   27            5    20      11      44  \n",
       "4   27            5    21      11      44  "
      ]
     },
     "execution_count": 329,
     "metadata": {},
     "output_type": "execute_result"
    }
   ],
   "source": [
    "# Checking first 5 rows just to confirm about all features created\n",
    "df.head()"
   ]
  },
  {
   "cell_type": "code",
   "execution_count": 330,
   "id": "cc713e8f",
   "metadata": {},
   "outputs": [
    {
     "data": {
      "text/plain": [
       "Date & Time            datetime64[ns]\n",
       "Production Per Hour             int64\n",
       "Total Production                int64\n",
       "Year                            int64\n",
       "Month                           int64\n",
       "Day                             int64\n",
       "Day_of_Week                     int64\n",
       "Hour                            int64\n",
       "Minute                          int64\n",
       "Second                          int64\n",
       "dtype: object"
      ]
     },
     "execution_count": 330,
     "metadata": {},
     "output_type": "execute_result"
    }
   ],
   "source": [
    "# Checking datatypes of newely created features\n",
    "\n",
    "df.dtypes"
   ]
  },
  {
   "cell_type": "markdown",
   "id": "b41119d5",
   "metadata": {},
   "source": [
    "## As we have extracted required information from 'Date & Time' feature, we will now drop 'Date & Time' feature from dataset because of below reason\n",
    "\n",
    "If the date and time features you extracted to capture the information you need for your analysis or modeling, keeping the original datetime column might introduce redundancy and unnecessary dimensionality."
   ]
  },
  {
   "cell_type": "code",
   "execution_count": 331,
   "id": "f6a74baf",
   "metadata": {},
   "outputs": [],
   "source": [
    "df = df.drop(['Date & Time'],axis=1)"
   ]
  },
  {
   "cell_type": "markdown",
   "id": "2b1ed625",
   "metadata": {},
   "source": [
    "## Exploratory Data Analysis (EDA)"
   ]
  },
  {
   "cell_type": "code",
   "execution_count": 332,
   "id": "79737417",
   "metadata": {},
   "outputs": [
    {
     "data": {
      "text/html": [
       "<div>\n",
       "<style scoped>\n",
       "    .dataframe tbody tr th:only-of-type {\n",
       "        vertical-align: middle;\n",
       "    }\n",
       "\n",
       "    .dataframe tbody tr th {\n",
       "        vertical-align: top;\n",
       "    }\n",
       "\n",
       "    .dataframe thead th {\n",
       "        text-align: right;\n",
       "    }\n",
       "</style>\n",
       "<table border=\"1\" class=\"dataframe\">\n",
       "  <thead>\n",
       "    <tr style=\"text-align: right;\">\n",
       "      <th></th>\n",
       "      <th>Production Per Hour</th>\n",
       "      <th>Total Production</th>\n",
       "      <th>Year</th>\n",
       "      <th>Month</th>\n",
       "      <th>Day</th>\n",
       "      <th>Day_of_Week</th>\n",
       "      <th>Hour</th>\n",
       "      <th>Minute</th>\n",
       "      <th>Second</th>\n",
       "    </tr>\n",
       "  </thead>\n",
       "  <tbody>\n",
       "    <tr>\n",
       "      <th>count</th>\n",
       "      <td>499.000000</td>\n",
       "      <td>499.000000</td>\n",
       "      <td>499.0</td>\n",
       "      <td>499.000000</td>\n",
       "      <td>499.000000</td>\n",
       "      <td>499.000000</td>\n",
       "      <td>499.000000</td>\n",
       "      <td>499.0</td>\n",
       "      <td>499.0</td>\n",
       "    </tr>\n",
       "    <tr>\n",
       "      <th>mean</th>\n",
       "      <td>65.917836</td>\n",
       "      <td>18268.839679</td>\n",
       "      <td>2024.0</td>\n",
       "      <td>1.793587</td>\n",
       "      <td>13.004008</td>\n",
       "      <td>2.979960</td>\n",
       "      <td>11.474950</td>\n",
       "      <td>11.0</td>\n",
       "      <td>44.0</td>\n",
       "    </tr>\n",
       "    <tr>\n",
       "      <th>std</th>\n",
       "      <td>278.952637</td>\n",
       "      <td>8902.021523</td>\n",
       "      <td>0.0</td>\n",
       "      <td>0.405136</td>\n",
       "      <td>9.373550</td>\n",
       "      <td>2.001907</td>\n",
       "      <td>6.957767</td>\n",
       "      <td>0.0</td>\n",
       "      <td>0.0</td>\n",
       "    </tr>\n",
       "    <tr>\n",
       "      <th>min</th>\n",
       "      <td>-63.000000</td>\n",
       "      <td>77.000000</td>\n",
       "      <td>2024.0</td>\n",
       "      <td>1.000000</td>\n",
       "      <td>1.000000</td>\n",
       "      <td>0.000000</td>\n",
       "      <td>0.000000</td>\n",
       "      <td>11.0</td>\n",
       "      <td>44.0</td>\n",
       "    </tr>\n",
       "    <tr>\n",
       "      <th>25%</th>\n",
       "      <td>16.500000</td>\n",
       "      <td>11916.500000</td>\n",
       "      <td>2024.0</td>\n",
       "      <td>2.000000</td>\n",
       "      <td>6.000000</td>\n",
       "      <td>1.000000</td>\n",
       "      <td>5.000000</td>\n",
       "      <td>11.0</td>\n",
       "      <td>44.0</td>\n",
       "    </tr>\n",
       "    <tr>\n",
       "      <th>50%</th>\n",
       "      <td>46.000000</td>\n",
       "      <td>18970.000000</td>\n",
       "      <td>2024.0</td>\n",
       "      <td>2.000000</td>\n",
       "      <td>11.000000</td>\n",
       "      <td>3.000000</td>\n",
       "      <td>11.000000</td>\n",
       "      <td>11.0</td>\n",
       "      <td>44.0</td>\n",
       "    </tr>\n",
       "    <tr>\n",
       "      <th>75%</th>\n",
       "      <td>75.000000</td>\n",
       "      <td>25150.000000</td>\n",
       "      <td>2024.0</td>\n",
       "      <td>2.000000</td>\n",
       "      <td>16.000000</td>\n",
       "      <td>5.000000</td>\n",
       "      <td>18.000000</td>\n",
       "      <td>11.0</td>\n",
       "      <td>44.0</td>\n",
       "    </tr>\n",
       "    <tr>\n",
       "      <th>max</th>\n",
       "      <td>5879.000000</td>\n",
       "      <td>32893.000000</td>\n",
       "      <td>2024.0</td>\n",
       "      <td>2.000000</td>\n",
       "      <td>31.000000</td>\n",
       "      <td>6.000000</td>\n",
       "      <td>23.000000</td>\n",
       "      <td>11.0</td>\n",
       "      <td>44.0</td>\n",
       "    </tr>\n",
       "  </tbody>\n",
       "</table>\n",
       "</div>"
      ],
      "text/plain": [
       "       Production Per Hour  Total Production    Year       Month         Day  \\\n",
       "count           499.000000        499.000000   499.0  499.000000  499.000000   \n",
       "mean             65.917836      18268.839679  2024.0    1.793587   13.004008   \n",
       "std             278.952637       8902.021523     0.0    0.405136    9.373550   \n",
       "min             -63.000000         77.000000  2024.0    1.000000    1.000000   \n",
       "25%              16.500000      11916.500000  2024.0    2.000000    6.000000   \n",
       "50%              46.000000      18970.000000  2024.0    2.000000   11.000000   \n",
       "75%              75.000000      25150.000000  2024.0    2.000000   16.000000   \n",
       "max            5879.000000      32893.000000  2024.0    2.000000   31.000000   \n",
       "\n",
       "       Day_of_Week        Hour  Minute  Second  \n",
       "count   499.000000  499.000000   499.0   499.0  \n",
       "mean      2.979960   11.474950    11.0    44.0  \n",
       "std       2.001907    6.957767     0.0     0.0  \n",
       "min       0.000000    0.000000    11.0    44.0  \n",
       "25%       1.000000    5.000000    11.0    44.0  \n",
       "50%       3.000000   11.000000    11.0    44.0  \n",
       "75%       5.000000   18.000000    11.0    44.0  \n",
       "max       6.000000   23.000000    11.0    44.0  "
      ]
     },
     "execution_count": 332,
     "metadata": {},
     "output_type": "execute_result"
    }
   ],
   "source": [
    "df.describe()"
   ]
  },
  {
   "cell_type": "markdown",
   "id": "c8f9406a",
   "metadata": {},
   "source": [
    "### Observation\n",
    "\n",
    "There are outliers in 'Production Per Hour' feature."
   ]
  },
  {
   "cell_type": "code",
   "execution_count": 333,
   "id": "4cefdfa5",
   "metadata": {},
   "outputs": [
    {
     "data": {
      "image/png": "[encoded data removed]",
      "text/plain": [
       "<Figure size 1440x576 with 1 Axes>"
      ]
     },
     "metadata": {
      "needs_background": "light"
     },
     "output_type": "display_data"
    }
   ],
   "source": [
    "# Checking outliers for 'Production Per Hour' feature using boxplot\n",
    "\n",
    "plt.figure(figsize=(20, 8))\n",
    "sns.boxplot(x='Production Per Hour', data=df)\n",
    "plt.show()"
   ]
  },
  {
   "cell_type": "code",
   "execution_count": 334,
   "id": "243fcedf",
   "metadata": {},
   "outputs": [
    {
     "data": {
      "image/png": "[encoded data removed]",
      "text/plain": [
       "<Figure size 1440x576 with 2 Axes>"
      ]
     },
     "metadata": {
      "needs_background": "light"
     },
     "output_type": "display_data"
    }
   ],
   "source": [
    "# Creating heat map\n",
    "\n",
    "selected_columns = ['Production Per Hour', 'Total Production', 'Month', 'Day', 'Day_of_Week', 'Hour', 'Minute', 'Second']\n",
    "\n",
    "plt.figure(figsize=(20, 8))\n",
    "sns.heatmap(df[selected_columns].corr(), annot=True, cmap='viridis')\n",
    "plt.title('Heatmap for Selected Columns')\n",
    "plt.show()"
   ]
  },
  {
   "cell_type": "code",
   "execution_count": 335,
   "id": "0e20a986",
   "metadata": {},
   "outputs": [
    {
     "data": {
      "text/plain": [
       "Production Per Hour    0\n",
       "Total Production       0\n",
       "Year                   0\n",
       "Month                  0\n",
       "Day                    0\n",
       "Day_of_Week            0\n",
       "Hour                   0\n",
       "Minute                 0\n",
       "Second                 0\n",
       "dtype: int64"
      ]
     },
     "execution_count": 335,
     "metadata": {},
     "output_type": "execute_result"
    }
   ],
   "source": [
    "# Checking Missing Values\n",
    "\n",
    "df.isna().sum()"
   ]
  },
  {
   "cell_type": "markdown",
   "id": "1ab6360f",
   "metadata": {},
   "source": [
    "#### Observation :\n",
    "\n",
    "- 1. There are no any highly correlated feature which is greater than 0.9.\n",
    "\n",
    "- 2. There are no any missing values in dataset\n"
   ]
  },
  {
   "cell_type": "markdown",
   "id": "e8e49ce4",
   "metadata": {},
   "source": [
    "## Feature Engineering\n",
    "\n",
    "### Train Test Split"
   ]
  },
  {
   "cell_type": "code",
   "execution_count": 336,
   "id": "a33c8965",
   "metadata": {},
   "outputs": [],
   "source": [
    "X = df.drop(['Total Production'],axis=1)\n",
    "y = df['Total Production']"
   ]
  },
  {
   "cell_type": "code",
   "execution_count": 337,
   "id": "4dcfcdb9",
   "metadata": {},
   "outputs": [],
   "source": [
    "X_train, X_test, y_train, y_test = train_test_split(X,y, test_size=0.3, random_state=42)"
   ]
  },
  {
   "cell_type": "code",
   "execution_count": 338,
   "id": "2bb4b55f",
   "metadata": {},
   "outputs": [
    {
     "data": {
      "text/plain": [
       "(349, 8)"
      ]
     },
     "execution_count": 338,
     "metadata": {},
     "output_type": "execute_result"
    }
   ],
   "source": [
    "X_train.shape"
   ]
  },
  {
   "cell_type": "code",
   "execution_count": 339,
   "id": "09dd4675",
   "metadata": {},
   "outputs": [
    {
     "data": {
      "text/plain": [
       "(150, 8)"
      ]
     },
     "execution_count": 339,
     "metadata": {},
     "output_type": "execute_result"
    }
   ],
   "source": [
    "X_test.shape"
   ]
  },
  {
   "cell_type": "markdown",
   "id": "99acdbc7",
   "metadata": {},
   "source": [
    "## Problem No. 1\n",
    "\n",
    "### To detect anamolies/outliers in 'Production Per Hour' feature and treat them.\n",
    "\n",
    "**Detecting of outlier :- Using Box Plot**\n",
    "\n",
    "**Treatment for outlier :- Capping**"
   ]
  },
  {
   "cell_type": "code",
   "execution_count": 340,
   "id": "77a93f5b",
   "metadata": {},
   "outputs": [
    {
     "data": {
      "image/png": "[encoded data removed]",
      "text/plain": [
       "<Figure size 1440x576 with 1 Axes>"
      ]
     },
     "metadata": {
      "needs_background": "light"
     },
     "output_type": "display_data"
    }
   ],
   "source": [
    "# Checking outliers for 'Production Per Hour' feature using boxplot\n",
    "\n",
    "plt.figure(figsize=(20,8))\n",
    "sns.boxplot(x='Production Per Hour', data=df)\n",
    "plt.show()"
   ]
  },
  {
   "cell_type": "code",
   "execution_count": 341,
   "id": "589a8c78",
   "metadata": {},
   "outputs": [
    {
     "data": {
      "text/plain": [
       "<AxesSubplot:xlabel='Production Per Hour', ylabel='Density'>"
      ]
     },
     "execution_count": 341,
     "metadata": {},
     "output_type": "execute_result"
    },
    {
     "data": {
      "image/png": "[encoded data removed]",
      "text/plain": [
       "<Figure size 1152x360 with 1 Axes>"
      ]
     },
     "metadata": {
      "needs_background": "light"
     },
     "output_type": "display_data"
    }
   ],
   "source": [
    "plt.figure(figsize=(16,5))\n",
    "sns.distplot(df['Production Per Hour'])"
   ]
  },
  {
   "cell_type": "markdown",
   "id": "9f1992fd",
   "metadata": {},
   "source": [
    "#### Observation:-\n",
    "\n",
    "As we can see 'Production Per Hour' follows skewed distribution, hence we will use upper limit and lower limit using IQR method to cap the outliers."
   ]
  },
  {
   "cell_type": "code",
   "execution_count": 342,
   "id": "34c856b6",
   "metadata": {},
   "outputs": [],
   "source": [
    "# Calculating 25th and 75th percentile\n",
    "\n",
    "percentile25 = X_train['Production Per Hour'].quantile(0.25)\n",
    "percentile75 = X_train['Production Per Hour'].quantile(0.75)"
   ]
  },
  {
   "cell_type": "code",
   "execution_count": 343,
   "id": "74bae7c9",
   "metadata": {},
   "outputs": [],
   "source": [
    "# Calculating IQR\n",
    "\n",
    "IQR = percentile75 - percentile25"
   ]
  },
  {
   "cell_type": "code",
   "execution_count": 344,
   "id": "6b0fdcc9",
   "metadata": {},
   "outputs": [
    {
     "data": {
      "text/plain": [
       "61.0"
      ]
     },
     "execution_count": 344,
     "metadata": {},
     "output_type": "execute_result"
    }
   ],
   "source": [
    "IQR"
   ]
  },
  {
   "cell_type": "code",
   "execution_count": 345,
   "id": "30fd3b25",
   "metadata": {},
   "outputs": [],
   "source": [
    "upper_limit = percentile75 + 1.5 * IQR\n",
    "lower_limit = percentile25 - 1.5 * IQR"
   ]
  },
  {
   "cell_type": "code",
   "execution_count": 346,
   "id": "9278ca52",
   "metadata": {},
   "outputs": [
    {
     "name": "stdout",
     "output_type": "stream",
     "text": [
      "Upper_limit 168.5\n",
      "Lower_limit -75.5\n"
     ]
    }
   ],
   "source": [
    "print('Upper_limit',upper_limit)\n",
    "print('Lower_limit',lower_limit)"
   ]
  },
  {
   "cell_type": "markdown",
   "id": "de6ea17e",
   "metadata": {},
   "source": [
    "## Finding Outliers"
   ]
  },
  {
   "cell_type": "code",
   "execution_count": 347,
   "id": "9123df4a",
   "metadata": {},
   "outputs": [
    {
     "data": {
      "text/html": [
       "<div>\n",
       "<style scoped>\n",
       "    .dataframe tbody tr th:only-of-type {\n",
       "        vertical-align: middle;\n",
       "    }\n",
       "\n",
       "    .dataframe tbody tr th {\n",
       "        vertical-align: top;\n",
       "    }\n",
       "\n",
       "    .dataframe thead th {\n",
       "        text-align: right;\n",
       "    }\n",
       "</style>\n",
       "<table border=\"1\" class=\"dataframe\">\n",
       "  <thead>\n",
       "    <tr style=\"text-align: right;\">\n",
       "      <th></th>\n",
       "      <th>Production Per Hour</th>\n",
       "      <th>Year</th>\n",
       "      <th>Month</th>\n",
       "      <th>Day</th>\n",
       "      <th>Day_of_Week</th>\n",
       "      <th>Hour</th>\n",
       "      <th>Minute</th>\n",
       "      <th>Second</th>\n",
       "    </tr>\n",
       "  </thead>\n",
       "  <tbody>\n",
       "    <tr>\n",
       "      <th>184</th>\n",
       "      <td>1532</td>\n",
       "      <td>2024</td>\n",
       "      <td>2</td>\n",
       "      <td>4</td>\n",
       "      <td>6</td>\n",
       "      <td>9</td>\n",
       "      <td>11</td>\n",
       "      <td>44</td>\n",
       "    </tr>\n",
       "    <tr>\n",
       "      <th>62</th>\n",
       "      <td>5879</td>\n",
       "      <td>2024</td>\n",
       "      <td>1</td>\n",
       "      <td>30</td>\n",
       "      <td>1</td>\n",
       "      <td>7</td>\n",
       "      <td>11</td>\n",
       "      <td>44</td>\n",
       "    </tr>\n",
       "    <tr>\n",
       "      <th>21</th>\n",
       "      <td>1002</td>\n",
       "      <td>2024</td>\n",
       "      <td>1</td>\n",
       "      <td>28</td>\n",
       "      <td>6</td>\n",
       "      <td>14</td>\n",
       "      <td>11</td>\n",
       "      <td>44</td>\n",
       "    </tr>\n",
       "    <tr>\n",
       "      <th>151</th>\n",
       "      <td>526</td>\n",
       "      <td>2024</td>\n",
       "      <td>2</td>\n",
       "      <td>3</td>\n",
       "      <td>5</td>\n",
       "      <td>0</td>\n",
       "      <td>11</td>\n",
       "      <td>44</td>\n",
       "    </tr>\n",
       "  </tbody>\n",
       "</table>\n",
       "</div>"
      ],
      "text/plain": [
       "     Production Per Hour  Year  Month  Day  Day_of_Week  Hour  Minute  Second\n",
       "184                 1532  2024      2    4            6     9      11      44\n",
       "62                  5879  2024      1   30            1     7      11      44\n",
       "21                  1002  2024      1   28            6    14      11      44\n",
       "151                  526  2024      2    3            5     0      11      44"
      ]
     },
     "execution_count": 347,
     "metadata": {},
     "output_type": "execute_result"
    }
   ],
   "source": [
    "X_train[X_train['Production Per Hour'] > upper_limit]"
   ]
  },
  {
   "cell_type": "code",
   "execution_count": 348,
   "id": "5805d673",
   "metadata": {},
   "outputs": [
    {
     "data": {
      "text/html": [
       "<div>\n",
       "<style scoped>\n",
       "    .dataframe tbody tr th:only-of-type {\n",
       "        vertical-align: middle;\n",
       "    }\n",
       "\n",
       "    .dataframe tbody tr th {\n",
       "        vertical-align: top;\n",
       "    }\n",
       "\n",
       "    .dataframe thead th {\n",
       "        text-align: right;\n",
       "    }\n",
       "</style>\n",
       "<table border=\"1\" class=\"dataframe\">\n",
       "  <thead>\n",
       "    <tr style=\"text-align: right;\">\n",
       "      <th></th>\n",
       "      <th>Production Per Hour</th>\n",
       "      <th>Year</th>\n",
       "      <th>Month</th>\n",
       "      <th>Day</th>\n",
       "      <th>Day_of_Week</th>\n",
       "      <th>Hour</th>\n",
       "      <th>Minute</th>\n",
       "      <th>Second</th>\n",
       "    </tr>\n",
       "  </thead>\n",
       "  <tbody>\n",
       "  </tbody>\n",
       "</table>\n",
       "</div>"
      ],
      "text/plain": [
       "Empty DataFrame\n",
       "Columns: [Production Per Hour, Year, Month, Day, Day_of_Week, Hour, Minute, Second]\n",
       "Index: []"
      ]
     },
     "execution_count": 348,
     "metadata": {},
     "output_type": "execute_result"
    }
   ],
   "source": [
    "X_train[X_train['Production Per Hour'] < lower_limit]"
   ]
  },
  {
   "cell_type": "markdown",
   "id": "2a43e3a5",
   "metadata": {},
   "source": [
    "## Capping the anamolies/outliers"
   ]
  },
  {
   "cell_type": "code",
   "execution_count": 349,
   "id": "4c76091a",
   "metadata": {},
   "outputs": [],
   "source": [
    "X_train['Production Per Hour'] = np.where(\n",
    "   X_train['Production Per Hour'] > upper_limit,\n",
    "   upper_limit,\n",
    "   \n",
    "   np.where(\n",
    "      X_train['Production Per Hour'] < lower_limit,\n",
    "      lower_limit,\n",
    "      X_train['Production Per Hour'] \n",
    "   ) \n",
    "\n",
    ")"
   ]
  },
  {
   "cell_type": "code",
   "execution_count": 350,
   "id": "c542a295",
   "metadata": {},
   "outputs": [
    {
     "data": {
      "image/png": "[encoded data removed]",
      "text/plain": [
       "<Figure size 1440x576 with 1 Axes>"
      ]
     },
     "metadata": {
      "needs_background": "light"
     },
     "output_type": "display_data"
    }
   ],
   "source": [
    "# Checking outliers for 'Production Per Hour' feature using boxplot after capping\n",
    "\n",
    "plt.figure(figsize=(20,8))\n",
    "sns.boxplot(x='Production Per Hour', data=X_train)\n",
    "plt.show()"
   ]
  },
  {
   "cell_type": "markdown",
   "id": "c3a9f8f3",
   "metadata": {},
   "source": [
    "## Problem No. 2 :\n",
    "\n",
    "## Model Training"
   ]
  },
  {
   "cell_type": "code",
   "execution_count": 351,
   "id": "43fb8ea0",
   "metadata": {},
   "outputs": [],
   "source": [
    "def train_test_models(models, X_train, X_test, y_train, y_test):\n",
    "    r2_scores = {}\n",
    "    \n",
    "    for model_name, model in models.items():\n",
    "        \n",
    "        model.fit(X_train, y_train)\n",
    "        \n",
    "        r2 = r2_score(y_test, model.predict(X_test))\n",
    "        \n",
    "        r2_scores[model_name] = r2\n",
    "        \n",
    "        print(f\"{model_name} R2 Score: {r2}\")\n",
    "    \n",
    "    return r2_scores"
   ]
  },
  {
   "cell_type": "code",
   "execution_count": 352,
   "id": "91863608",
   "metadata": {},
   "outputs": [],
   "source": [
    "models = {\n",
    "    'Decision Tree':DecisionTreeRegressor(),\n",
    "    'Random Forest':RandomForestRegressor()\n",
    "}"
   ]
  },
  {
   "cell_type": "code",
   "execution_count": 353,
   "id": "1da203f1",
   "metadata": {},
   "outputs": [
    {
     "name": "stdout",
     "output_type": "stream",
     "text": [
      "Decision Tree R2 Score: 0.9998756544197035\n",
      "Random Forest R2 Score: 0.99956006932605\n"
     ]
    }
   ],
   "source": [
    "results = train_test_models(models, X_train, X_test, y_train, y_test)"
   ]
  },
  {
   "cell_type": "markdown",
   "id": "c2620073",
   "metadata": {},
   "source": [
    "### Observation:-\n",
    "\n",
    "We are getting 0.99 r2 score for both models"
   ]
  },
  {
   "cell_type": "markdown",
   "id": "547493e3",
   "metadata": {},
   "source": [
    "## Hyperparametr Tunning"
   ]
  },
  {
   "cell_type": "code",
   "execution_count": 354,
   "id": "a5c196d7",
   "metadata": {},
   "outputs": [],
   "source": [
    "def hyperparameter_tuning(models, param_grids, X_train, X_test, y_train, y_test):\n",
    "    best_params = {}\n",
    "    best_scores = {}\n",
    "\n",
    "    for model_name, model in models.items():\n",
    "        param_grid = param_grids[model_name]\n",
    "\n",
    "        grid_search = GridSearchCV(model, param_grid, scoring='r2', cv=5)\n",
    "        grid_search.fit(X_train, y_train)\n",
    "\n",
    "        best_params[model_name] = grid_search.best_params_\n",
    "        best_scores[model_name] = grid_search.best_score_\n",
    "\n",
    "        best_estimator = grid_search.best_estimator_\n",
    "        test_predictions = best_estimator.predict(X_test)\n",
    "        test_score = r2_score(y_test, test_predictions)\n",
    "\n",
    "        print(f\"{model_name} - Best Parameters: {best_params[model_name]}\")\n",
    "        print(f\"{model_name} - Best r2 Score: {best_scores[model_name]}\")\n",
    "        print(f\"{model_name} - Test Score: {test_score}\\n\")\n",
    "\n",
    "    return best_params, best_scores"
   ]
  },
  {
   "cell_type": "code",
   "execution_count": 355,
   "id": "cea7ff06",
   "metadata": {},
   "outputs": [],
   "source": [
    "param_grids = {\n",
    "    'Decision Tree': {\n",
    "        'criterion': ['mse', 'mae'],\n",
    "        'max_depth': [None, 5, 10, 15],\n",
    "        'min_samples_split': [2, 5, 10]\n",
    "    },\n",
    "    'Random Forest': {\n",
    "        'n_estimators': [50, 100, 150],\n",
    "        'criterion': ['mse', 'mae'],\n",
    "        'max_depth': [None, 5, 10, 15],\n",
    "        'min_samples_split': [2, 5, 10]\n",
    "    }\n",
    "}"
   ]
  },
  {
   "cell_type": "code",
   "execution_count": 356,
   "id": "f715340c",
   "metadata": {},
   "outputs": [
    {
     "name": "stdout",
     "output_type": "stream",
     "text": [
      "Decision Tree - Best Parameters: {'criterion': 'mse', 'max_depth': 10, 'min_samples_split': 2}\n",
      "Decision Tree - Best r2 Score: 0.9986768282159989\n",
      "Decision Tree - Test Score: 0.9998566041718395\n",
      "\n",
      "Random Forest - Best Parameters: {'criterion': 'mae', 'max_depth': None, 'min_samples_split': 2, 'n_estimators': 150}\n",
      "Random Forest - Best r2 Score: 0.9987925711595385\n",
      "Random Forest - Test Score: 0.9995921472740097\n",
      "\n"
     ]
    }
   ],
   "source": [
    "best_params, best_scores = hyperparameter_tuning(models, param_grids, X_train, X_test, y_train, y_test)"
   ]
  },
  {
   "cell_type": "markdown",
   "id": "40c3e87a",
   "metadata": {},
   "source": [
    "#### Observation :\n",
    "\n",
    "**Both models are giving good prediction**"
   ]
  },
  {
   "attachments": {
    "image.png": {
     "image/png": "[encoded data removed]"
    }
   },
   "cell_type": "markdown",
   "id": "9dd37928",
   "metadata": {},
   "source": [
    "# Thank You For Going Through This Notebook😃\n",
    "\n",
    "![image.png](attachment:image.png)"
   ]
  }
 ],
 "metadata": {
  "kernelspec": {
   "display_name": "Python 3 (ipykernel)",
   "language": "python",
   "name": "python3"
  },
  "language_info": {
   "codemirror_mode": {
    "name": "ipython",
    "version": 3
   },
   "file_extension": ".py",
   "mimetype": "text/x-python",
   "name": "python",
   "nbconvert_exporter": "python",
   "pygments_lexer": "ipython3",
   "version": "3.9.12"
  }
 },
 "nbformat": 4,
 "nbformat_minor": 5
}
